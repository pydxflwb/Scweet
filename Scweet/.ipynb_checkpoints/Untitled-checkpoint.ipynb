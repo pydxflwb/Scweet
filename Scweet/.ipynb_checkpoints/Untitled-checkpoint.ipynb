{
 "cells": [
  {
   "cell_type": "markdown",
   "id": "lined-drilling",
   "metadata": {},
   "source": [
    "# # Core User Profile"
   ]
  },
  {
   "cell_type": "code",
   "execution_count": 1,
   "id": "bibliographic-antigua",
   "metadata": {},
   "outputs": [],
   "source": [
    "from user import get_user_information, get_users_following, get_users_followers"
   ]
  },
  {
   "cell_type": "code",
   "execution_count": 2,
   "id": "atomic-cheat",
   "metadata": {},
   "outputs": [],
   "source": [
    "# Input users. \n",
    "users = ['@YourAnonNews','@YourAnonCentral']"
   ]
  },
  {
   "cell_type": "code",
   "execution_count": 3,
   "id": "historic-allocation",
   "metadata": {
    "scrolled": true
   },
   "outputs": [
    {
     "name": "stdout",
     "output_type": "stream",
     "text": [
      "Scraping on headless mode.\n",
      "--------------- @YourAnonNews information : ---------------\n",
      "Following :  760\n",
      "Followers :  684.1万\n",
      "Location :  The Interwebs\n",
      "Join date :  2011年4月 加入\n",
      "Birth date :  出生于 11月5日\n",
      "Description :  We are Anonymous, we are legion, we do not forgive, we do not forget. Expect us. \n",
      "\n",
      "Prepared to go forward w/it. Here live. Not a cat.\n",
      "\n",
      "#Anonymous #HackThePlanet\n",
      "Website :  \n",
      "--------------- @YourAnonCentral information : ---------------\n",
      "Following :  835\n",
      "Followers :  586.5万\n",
      "Location :  in your area\n",
      "Join date :  2011年9月 加入\n",
      "Birth date :  出生于 11月5日\n",
      "Description :  Exposing Human Rights abuses from around the world. Reporting, resistance resources, & #Anonymous updates. Actions Not Nouns. The official #YAC. #EndImpunity\n",
      "Website :  https://t.co/gyBE424zmY?amp=1\n"
     ]
    }
   ],
   "source": [
    "user_prof = get_user_information(users, headless=True)"
   ]
  },
  {
   "cell_type": "code",
   "execution_count": 4,
   "id": "flexible-stability",
   "metadata": {},
   "outputs": [
    {
     "data": {
      "text/plain": [
       "{'@YourAnonNews': ['760',\n",
       "  '684.1万',\n",
       "  '2011年4月 加入',\n",
       "  '出生于 11月5日',\n",
       "  'The Interwebs',\n",
       "  '',\n",
       "  'We are Anonymous, we are legion, we do not forgive, we do not forget. Expect us. \\n\\nPrepared to go forward w/it. Here live. Not a cat.\\n\\n#Anonymous #HackThePlanet'],\n",
       " '@YourAnonCentral': ['835',\n",
       "  '586.5万',\n",
       "  '2011年9月 加入',\n",
       "  '出生于 11月5日',\n",
       "  'in your area',\n",
       "  'https://t.co/gyBE424zmY?amp=1',\n",
       "  'Exposing Human Rights abuses from around the world. Reporting, resistance resources, & #Anonymous updates. Actions Not Nouns. The official #YAC. #EndImpunity']}"
      ]
     },
     "execution_count": 4,
     "metadata": {},
     "output_type": "execute_result"
    }
   ],
   "source": [
    "user_prof"
   ]
  },
  {
   "cell_type": "code",
   "execution_count": 5,
   "id": "alert-contribution",
   "metadata": {
    "scrolled": true
   },
   "outputs": [
    {
     "data": {
      "text/html": [
       "<div>\n",
       "<style scoped>\n",
       "    .dataframe tbody tr th:only-of-type {\n",
       "        vertical-align: middle;\n",
       "    }\n",
       "\n",
       "    .dataframe tbody tr th {\n",
       "        vertical-align: top;\n",
       "    }\n",
       "\n",
       "    .dataframe thead th {\n",
       "        text-align: right;\n",
       "    }\n",
       "</style>\n",
       "<table border=\"1\" class=\"dataframe\">\n",
       "  <thead>\n",
       "    <tr style=\"text-align: right;\">\n",
       "      <th></th>\n",
       "      <th>following</th>\n",
       "      <th>followers</th>\n",
       "      <th>join_date</th>\n",
       "      <th>birthdate</th>\n",
       "      <th>location</th>\n",
       "      <th>website</th>\n",
       "      <th>description</th>\n",
       "    </tr>\n",
       "  </thead>\n",
       "  <tbody>\n",
       "    <tr>\n",
       "      <th>@YourAnonNews</th>\n",
       "      <td>760</td>\n",
       "      <td>684.1万</td>\n",
       "      <td>2011年4月 加入</td>\n",
       "      <td>出生于 11月5日</td>\n",
       "      <td>The Interwebs</td>\n",
       "      <td></td>\n",
       "      <td>We are Anonymous, we are legion, we do not for...</td>\n",
       "    </tr>\n",
       "    <tr>\n",
       "      <th>@YourAnonCentral</th>\n",
       "      <td>835</td>\n",
       "      <td>586.5万</td>\n",
       "      <td>2011年9月 加入</td>\n",
       "      <td>出生于 11月5日</td>\n",
       "      <td>in your area</td>\n",
       "      <td>https://t.co/gyBE424zmY?amp=1</td>\n",
       "      <td>Exposing Human Rights abuses from around the w...</td>\n",
       "    </tr>\n",
       "  </tbody>\n",
       "</table>\n",
       "</div>"
      ],
      "text/plain": [
       "                 following followers   join_date  birthdate       location  \\\n",
       "@YourAnonNews          760    684.1万  2011年4月 加入  出生于 11月5日  The Interwebs   \n",
       "@YourAnonCentral       835    586.5万  2011年9月 加入  出生于 11月5日   in your area   \n",
       "\n",
       "                                        website  \\\n",
       "@YourAnonNews                                     \n",
       "@YourAnonCentral  https://t.co/gyBE424zmY?amp=1   \n",
       "\n",
       "                                                        description  \n",
       "@YourAnonNews     We are Anonymous, we are legion, we do not for...  \n",
       "@YourAnonCentral  Exposing Human Rights abuses from around the w...  "
      ]
     },
     "execution_count": 5,
     "metadata": {},
     "output_type": "execute_result"
    }
   ],
   "source": [
    "import pandas as pd\n",
    "user_prof1 = pd.DataFrame(user_prof, index=[\"following\",\"followers\",\"join_date\",\n",
    "                                            \"birthdate\",\"location\",\"website\",\n",
    "                                           \"description\"]).T\n",
    "user_prof1"
   ]
  },
  {
   "cell_type": "markdown",
   "id": "respected-retail",
   "metadata": {},
   "source": [
    "* Saving into files"
   ]
  },
  {
   "cell_type": "code",
   "execution_count": 6,
   "id": "restricted-coach",
   "metadata": {
    "scrolled": true
   },
   "outputs": [],
   "source": [
    "user_prof1.to_json(r\"C:\\Users\\15821\\Documents\\GitHub\\Scweet\\Scweet\\outputs\\twi_01\\t_01_core_prof.json\")"
   ]
  },
  {
   "cell_type": "markdown",
   "id": "american-bones",
   "metadata": {},
   "source": [
    "### Core_User_Follows"
   ]
  },
  {
   "cell_type": "code",
   "execution_count": null,
   "id": "gorgeous-tennis",
   "metadata": {},
   "outputs": [
    {
     "name": "stdout",
     "output_type": "stream",
     "text": [
      "Scraping on headless mode.\n"
     ]
    }
   ],
   "source": [
    "fol = get_users_followers(users=users, verbose=0, headless=True, wait=1)"
   ]
  },
  {
   "cell_type": "code",
   "execution_count": null,
   "id": "vital-finish",
   "metadata": {},
   "outputs": [],
   "source": []
  }
 ],
 "metadata": {
  "kernelspec": {
   "display_name": "Python 3",
   "language": "python",
   "name": "python3"
  },
  "language_info": {
   "codemirror_mode": {
    "name": "ipython",
    "version": 3
   },
   "file_extension": ".py",
   "mimetype": "text/x-python",
   "name": "python",
   "nbconvert_exporter": "python",
   "pygments_lexer": "ipython3",
   "version": "3.7.0"
  }
 },
 "nbformat": 4,
 "nbformat_minor": 5
}
